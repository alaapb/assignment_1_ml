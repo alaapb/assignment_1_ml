{
 "cells": [
  {
   "cell_type": "code",
   "execution_count": 1,
   "metadata": {},
   "outputs": [],
   "source": [
    "import numpy as np\n",
    "\n",
    "class cluster:\n",
    "\n",
    "    def __init__(self):\n",
    "        pass\n",
    "\n",
    "    def fit(self, X):\n",
    "        pass\n",
    "\n",
    "\n",
    "\n",
    "\n",
    "class K_Means(cluster):\n",
    "    \n",
    "    def __init__(self, k, max_iter):\n",
    "        self.k = k\n",
    "        self.max_iter = max_iter\n",
    "        self.centers = None\n",
    "        self.index = None\n",
    "        \n",
    "    \n",
    "    def fit(self, x):\n",
    "        random_centroids = x[np.random.choice(len(x), self.k), :]\n",
    "        dist = distance.cdist(X, random_centroids, 'euclidean')\n",
    "        closest_centroid = self.get_neighbour_centroid(dist)\n",
    "        neighbours = []\n",
    "        \n",
    "        for i in range(self.max_iterations):\n",
    "            \n",
    "            for centroid in range(self.k):\n",
    "                pos = (closest_centroid == centroid)\n",
    "                mean_of_points = x[pos,:].mean(axis=0)\n",
    "                neighbours.append(list(mean_of_points))\n",
    "            \n",
    "            dist_of_centroid = distance.cdist(x, neighbours, 'euclidean')\n",
    "            points_closest = self.get_neighbour_centroid(dist_of_centroid)\n",
    "        self.centers = neighbours\n",
    "        self.index = np.asarray(points_closest)\n",
    "        \n",
    "    def get_neighbours(self, points):\n",
    "        closest_point = []\n",
    "        for point in points:\n",
    "            neighbour = (np.where(point==np.amin(point, axis=None, out=None)))\n",
    "            closest_point.append(int(neighbour[0]))\n",
    "        return np.asarray(closest_point) "
   ]
  }
 ],
 "metadata": {
  "kernelspec": {
   "display_name": "Python 3",
   "language": "python",
   "name": "python3"
  },
  "language_info": {
   "codemirror_mode": {
    "name": "ipython",
    "version": 3
   },
   "file_extension": ".py",
   "mimetype": "text/x-python",
   "name": "python",
   "nbconvert_exporter": "python",
   "pygments_lexer": "ipython3",
   "version": "3.8.5"
  }
 },
 "nbformat": 4,
 "nbformat_minor": 4
}
